{
 "cells": [
  {
   "cell_type": "markdown",
   "metadata": {
    "collapsed": true,
    "deletable": true,
    "editable": true
   },
   "source": [
    "# Image Classification\n",
    "In this project, you'll classify images from the [CIFAR-10 dataset](https://www.cs.toronto.edu/~kriz/cifar.html).  The dataset consists of airplanes, dogs, cats, and other objects. You'll preprocess the images, then train a convolutional neural network on all the samples. The images need to be normalized and the labels need to be one-hot encoded.  You'll get to apply what you learned and build a convolutional, max pooling, dropout, and fully connected layers.  At the end, you'll get to see your neural network's predictions on the sample images.\n",
    "## Get the Data\n",
    "Run the following cell to download the [CIFAR-10 dataset for python](https://www.cs.toronto.edu/~kriz/cifar-10-python.tar.gz)."
   ]
  },
  {
   "cell_type": "code",
   "execution_count": 1,
   "metadata": {
    "collapsed": false,
    "deletable": true,
    "editable": true
   },
   "outputs": [
    {
     "name": "stdout",
     "output_type": "stream",
     "text": [
      "All files found!\n"
     ]
    }
   ],
   "source": [
    "\"\"\"\n",
    "DON'T MODIFY ANYTHING IN THIS CELL THAT IS BELOW THIS LINE\n",
    "\"\"\"\n",
    "from urllib.request import urlretrieve\n",
    "from os.path import isfile, isdir\n",
    "from tqdm import tqdm\n",
    "import problem_unittests as tests\n",
    "import tarfile\n",
    "\n",
    "cifar10_dataset_folder_path = 'cifar-10-batches-py'\n",
    "\n",
    "class DLProgress(tqdm):\n",
    "    last_block = 0\n",
    "\n",
    "    def hook(self, block_num=1, block_size=1, total_size=None):\n",
    "        self.total = total_size\n",
    "        self.update((block_num - self.last_block) * block_size)\n",
    "        self.last_block = block_num\n",
    "\n",
    "if not isfile('cifar-10-python.tar.gz'):\n",
    "    with DLProgress(unit='B', unit_scale=True, miniters=1, desc='CIFAR-10 Dataset') as pbar:\n",
    "        urlretrieve(\n",
    "            'https://www.cs.toronto.edu/~kriz/cifar-10-python.tar.gz',\n",
    "            'cifar-10-python.tar.gz',\n",
    "            pbar.hook)\n",
    "\n",
    "if not isdir(cifar10_dataset_folder_path):\n",
    "    with tarfile.open('cifar-10-python.tar.gz') as tar:\n",
    "        tar.extractall()\n",
    "        tar.close()\n",
    "\n",
    "\n",
    "tests.test_folder_path(cifar10_dataset_folder_path)"
   ]
  },
  {
   "cell_type": "markdown",
   "metadata": {
    "deletable": true,
    "editable": true
   },
   "source": [
    "## Explore the Data\n",
    "The dataset is broken into batches to prevent your machine from running out of memory.  The CIFAR-10 dataset consists of 5 batches, named `data_batch_1`, `data_batch_2`, etc.. Each batch contains the labels and images that are one of the following:\n",
    "* airplane\n",
    "* automobile\n",
    "* bird\n",
    "* cat\n",
    "* deer\n",
    "* dog\n",
    "* frog\n",
    "* horse\n",
    "* ship\n",
    "* truck\n",
    "\n",
    "Understanding a dataset is part of making predictions on the data.  Play around with the code cell below by changing the `batch_id` and `sample_id`. The `batch_id` is the id for a batch (1-5). The `sample_id` is the id for a image and label pair in the batch.\n",
    "\n",
    "Ask yourself \"What are all possible labels?\", \"What is the range of values for the image data?\", \"Are the labels in order or random?\".  Answers to questions like these will help you preprocess the data and end up with better predictions."
   ]
  },
  {
   "cell_type": "code",
   "execution_count": 2,
   "metadata": {
    "collapsed": false,
    "deletable": true,
    "editable": true
   },
   "outputs": [
    {
     "name": "stdout",
     "output_type": "stream",
     "text": [
      "\n",
      "Stats of batch 2:\n",
      "Samples: 10000\n",
      "Label Counts: {0: 984, 1: 1007, 2: 1010, 3: 995, 4: 1010, 5: 988, 6: 1008, 7: 1026, 8: 987, 9: 985}\n",
      "First 20 Labels: [1, 6, 6, 8, 8, 3, 4, 6, 0, 6, 0, 3, 6, 6, 5, 4, 8, 3, 2, 6]\n",
      "\n",
      "Example of Image 10:\n",
      "Image - Min Value: 4 Max Value: 231\n",
      "Image - Shape: (32, 32, 3)\n",
      "Label - Label Id: 0 Name: airplane\n"
     ]
    },
    {
     "data": {
      "image/png": "[encoded data removed]",
      "text/plain": [
       "<matplotlib.figure.Figure at 0x1b277cdafd0>"
      ]
     },
     "metadata": {
      "image/png": {
       "height": 250,
       "width": 253
      }
     },
     "output_type": "display_data"
    }
   ],
   "source": [
    "%matplotlib inline\n",
    "%config InlineBackend.figure_format = 'retina'\n",
    "\n",
    "import helper\n",
    "import numpy as np\n",
    "\n",
    "# Explore the dataset\n",
    "batch_id = 2\n",
    "sample_id = 10\n",
    "helper.display_stats(cifar10_dataset_folder_path, batch_id, sample_id)"
   ]
  },
  {
   "cell_type": "markdown",
   "metadata": {
    "deletable": true,
    "editable": true
   },
   "source": [
    "## Implement Preprocess Functions\n",
    "### Normalize\n",
    "In the cell below, implement the `normalize` function to take in image data, `x`, and return it as a normalized Numpy array. The values should be in the range of 0 to 1, inclusive.  The return object should be the same shape as `x`."
   ]
  },
  {
   "cell_type": "code",
   "execution_count": 8,
   "metadata": {
    "collapsed": false,
    "deletable": true,
    "editable": true
   },
   "outputs": [
    {
     "name": "stdout",
     "output_type": "stream",
     "text": [
      "Tests Passed\n"
     ]
    }
   ],
   "source": [
    "def normalize(x):\n",
    "    \"\"\"\n",
    "    Normalize a list of sample image data in the range of 0 to 1\n",
    "    : x: List of image data.  The image shape is (32, 32, 3)\n",
    "    : return: Numpy array of normalize data\n",
    "    \"\"\"\n",
    "    #     print(x)\n",
    "    normalized_x=(x-np.min(x))/(np.max(x)-np.min(x))\n",
    "    # TODO: Implement Function\n",
    "    return normalized_x\n",
    "\n",
    "\n",
    "\"\"\"\n",
    "DON'T MODIFY ANYTHING IN THIS CELL THAT IS BELOW THIS LINE\n",
    "\"\"\"\n",
    "tests.test_normalize(normalize)"
   ]
  },
  {
   "cell_type": "markdown",
   "metadata": {
    "deletable": true,
    "editable": true
   },
   "source": [
    "### One-hot encode\n",
    "Just like the previous code cell, you'll be implementing a function for preprocessing.  This time, you'll implement the `one_hot_encode` function. The input, `x`, are a list of labels.  Implement the function to return the list of labels as One-Hot encoded Numpy array.  The possible values for labels are 0 to 9. The one-hot encoding function should return the same encoding for each value between each call to `one_hot_encode`.  Make sure to save the map of encodings outside the function.\n",
    "\n",
    "Hint: Don't reinvent the wheel."
   ]
  },
  {
   "cell_type": "code",
   "execution_count": 9,
   "metadata": {
    "collapsed": false,
    "deletable": true,
    "editable": true
   },
   "outputs": [
    {
     "name": "stdout",
     "output_type": "stream",
     "text": [
      "Tests Passed\n"
     ]
    }
   ],
   "source": [
    "from sklearn import preprocessing\n",
    "\n",
    "lb=None\n",
    "\n",
    "def one_hot_encode(x):\n",
    "    \"\"\"\n",
    "    One hot encode a list of sample labels. Return a one-hot encoded vector for each label.\n",
    "    : x: List of sample Labels\n",
    "    : return: Numpy array of one-hot encoded labels\n",
    "    \"\"\"\n",
    "    # TODO: Implement Function\n",
    "    global lb\n",
    "    if lb is None:\n",
    "        lb = preprocessing.LabelBinarizer()\n",
    "        lb = preprocessing.LabelBinarizer().fit(x)\n",
    "    return lb.transform(x)\n",
    "\n",
    "\n",
    "\"\"\"\n",
    "DON'T MODIFY ANYTHING IN THIS CELL THAT IS BELOW THIS LINE\n",
    "\"\"\"\n",
    "tests.test_one_hot_encode(one_hot_encode)"
   ]
  },
  {
   "cell_type": "markdown",
   "metadata": {
    "deletable": true,
    "editable": true
   },
   "source": [
    "### Randomize Data\n",
    "As you saw from exploring the data above, the order of the samples are randomized.  It doesn't hurt to randomize it again, but you don't need to for this dataset."
   ]
  },
  {
   "cell_type": "markdown",
   "metadata": {
    "deletable": true,
    "editable": true
   },
   "source": [
    "## Preprocess all the data and save it\n",
    "Running the code cell below will preprocess all the CIFAR-10 data and save it to file. The code below also uses 10% of the training data for validation."
   ]
  },
  {
   "cell_type": "code",
   "execution_count": 10,
   "metadata": {
    "collapsed": false,
    "deletable": true,
    "editable": true
   },
   "outputs": [],
   "source": [
    "\"\"\"\n",
    "DON'T MODIFY ANYTHING IN THIS CELL\n",
    "\"\"\"\n",
    "# Preprocess Training, Validation, and Testing Data\n",
    "helper.preprocess_and_save_data(cifar10_dataset_folder_path, normalize, one_hot_encode)"
   ]
  },
  {
   "cell_type": "markdown",
   "metadata": {
    "deletable": true,
    "editable": true
   },
   "source": [
    "# Check Point\n",
    "This is your first checkpoint.  If you ever decide to come back to this notebook or have to restart the notebook, you can start from here.  The preprocessed data has been saved to disk."
   ]
  },
  {
   "cell_type": "code",
   "execution_count": 11,
   "metadata": {
    "collapsed": true,
    "deletable": true,
    "editable": true
   },
   "outputs": [],
   "source": [
    "\"\"\"\n",
    "DON'T MODIFY ANYTHING IN THIS CELL\n",
    "\"\"\"\n",
    "import pickle\n",
    "import problem_unittests as tests\n",
    "import helper\n",
    "\n",
    "# Load the Preprocessed Validation data\n",
    "valid_features, valid_labels = pickle.load(open('preprocess_validation.p', mode='rb'))"
   ]
  },
  {
   "cell_type": "markdown",
   "metadata": {
    "deletable": true,
    "editable": true
   },
   "source": [
    "## Build the network\n",
    "For the neural network, you'll build each layer into a function.  Most of the code you've seen has been outside of functions. To test your code more thoroughly, we require that you put each layer in a function.  This allows us to give you better feedback and test for simple mistakes using our unittests before you submit your project.\n",
    "\n",
    ">**Note:** If you're finding it hard to dedicate enough time for this course each week, we've provided a small shortcut to this part of the project. In the next couple of problems, you'll have the option to use classes from the [TensorFlow Layers](https://www.tensorflow.org/api_docs/python/tf/layers) or [TensorFlow Layers (contrib)](https://www.tensorflow.org/api_guides/python/contrib.layers) packages to build each layer, except the layers you build in the \"Convolutional and Max Pooling Layer\" section.  TF Layers is similar to Keras's and TFLearn's abstraction to layers, so it's easy to pickup.\n",
    "\n",
    ">However, if you would like to get the most out of this course, try to solve all the problems _without_ using anything from the TF Layers packages. You **can** still use classes from other packages that happen to have the same name as ones you find in TF Layers! For example, instead of using the TF Layers version of the `conv2d` class, [tf.layers.conv2d](https://www.tensorflow.org/api_docs/python/tf/layers/conv2d), you would want to use the TF Neural Network version of `conv2d`, [tf.nn.conv2d](https://www.tensorflow.org/api_docs/python/tf/nn/conv2d). \n",
    "\n",
    "Let's begin!\n",
    "\n",
    "### Input\n",
    "The neural network needs to read the image data, one-hot encoded labels, and dropout keep probability. Implement the following functions\n",
    "* Implement `neural_net_image_input`\n",
    " * Return a [TF Placeholder](https://www.tensorflow.org/api_docs/python/tf/placeholder)\n",
    " * Set the shape using `image_shape` with batch size set to `None`.\n",
    " * Name the TensorFlow placeholder \"x\" using the TensorFlow `name` parameter in the [TF Placeholder](https://www.tensorflow.org/api_docs/python/tf/placeholder).\n",
    "* Implement `neural_net_label_input`\n",
    " * Return a [TF Placeholder](https://www.tensorflow.org/api_docs/python/tf/placeholder)\n",
    " * Set the shape using `n_classes` with batch size set to `None`.\n",
    " * Name the TensorFlow placeholder \"y\" using the TensorFlow `name` parameter in the [TF Placeholder](https://www.tensorflow.org/api_docs/python/tf/placeholder).\n",
    "* Implement `neural_net_keep_prob_input`\n",
    " * Return a [TF Placeholder](https://www.tensorflow.org/api_docs/python/tf/placeholder) for dropout keep probability.\n",
    " * Name the TensorFlow placeholder \"keep_prob\" using the TensorFlow `name` parameter in the [TF Placeholder](https://www.tensorflow.org/api_docs/python/tf/placeholder).\n",
    "\n",
    "These names will be used at the end of the project to load your saved model.\n",
    "\n",
    "Note: `None` for shapes in TensorFlow allow for a dynamic size."
   ]
  },
  {
   "cell_type": "code",
   "execution_count": 12,
   "metadata": {
    "collapsed": false,
    "deletable": true,
    "editable": true
   },
   "outputs": [
    {
     "name": "stdout",
     "output_type": "stream",
     "text": [
      "Image Input Tests Passed.\n",
      "Label Input Tests Passed.\n",
      "Keep Prob Tests Passed.\n"
     ]
    }
   ],
   "source": [
    "import tensorflow as tf\n",
    "\n",
    "def neural_net_image_input(image_shape):\n",
    "    \"\"\"\n",
    "    Return a Tensor for a bach of image input\n",
    "    : image_shape: Shape of the images\n",
    "    : return: Tensor for image input.\n",
    "    \"\"\"\n",
    "    # TODO: Implement Function\n",
    "    l,w,d=image_shape\n",
    "    x=tf.placeholder(tf.float32,[None,l,w,d],name='x')\n",
    "    return x\n",
    "\n",
    "\n",
    "\n",
    "def neural_net_label_input(n_classes):\n",
    "    \"\"\"\n",
    "    Return a Tensor for a batch of label input\n",
    "    : n_classes: Number of classes\n",
    "    : return: Tensor for label input.\n",
    "    \"\"\"\n",
    "    # TODO: Implement Function\n",
    "    y=tf.placeholder(tf.float32,[None,n_classes], name='y')\n",
    "    return y\n",
    "\n",
    "def neural_net_keep_prob_input():\n",
    "    \"\"\"\n",
    "    Return a Tensor for keep probability\n",
    "    : return: Tensor for keep probability.\n",
    "    \"\"\"\n",
    "    # TODO: Implement Function\n",
    "    keep_probab=tf.placeholder(tf.float32, name = 'keep_prob')    \n",
    "    return keep_probab\n",
    "\n",
    "\n",
    "\"\"\"\n",
    "DON'T MODIFY ANYTHING IN THIS CELL THAT IS BELOW THIS LINE\n",
    "\"\"\"\n",
    "tf.reset_default_graph()\n",
    "tests.test_nn_image_inputs(neural_net_image_input)\n",
    "tests.test_nn_label_inputs(neural_net_label_input)\n",
    "tests.test_nn_keep_prob_inputs(neural_net_keep_prob_input)"
   ]
  },
  {
   "cell_type": "markdown",
   "metadata": {
    "deletable": true,
    "editable": true
   },
   "source": [
    "### Convolution and Max Pooling Layer\n",
    "Convolution layers have a lot of success with images. For this code cell, you should implement the function `conv2d_maxpool` to apply convolution then max pooling:\n",
    "* Create the weight and bias using `conv_ksize`, `conv_num_outputs` and the shape of `x_tensor`.\n",
    "* Apply a convolution to `x_tensor` using weight and `conv_strides`.\n",
    " * We recommend you use same padding, but you're welcome to use any padding.\n",
    "* Add bias\n",
    "* Add a nonlinear activation to the convolution.\n",
    "* Apply Max Pooling using `pool_ksize` and `pool_strides`.\n",
    " * We recommend you use same padding, but you're welcome to use any padding.\n",
    "\n",
    "**Note:** You **can't** use [TensorFlow Layers](https://www.tensorflow.org/api_docs/python/tf/layers) or [TensorFlow Layers (contrib)](https://www.tensorflow.org/api_guides/python/contrib.layers) for **this** layer, but you can still use TensorFlow's [Neural Network](https://www.tensorflow.org/api_docs/python/tf/nn) package. You may still use the shortcut option for all the **other** layers."
   ]
  },
  {
   "cell_type": "code",
   "execution_count": 13,
   "metadata": {
    "collapsed": false,
    "deletable": true,
    "editable": true
   },
   "outputs": [
    {
     "name": "stdout",
     "output_type": "stream",
     "text": [
      "Tests Passed\n"
     ]
    }
   ],
   "source": [
    "def conv2d_maxpool(x_tensor, conv_num_outputs, conv_ksize, conv_strides, pool_ksize, pool_strides):\n",
    "    \"\"\"\n",
    "    Apply convolution then max pooling to x_tensor\n",
    "    :param x_tensor: TensorFlow Tensor\n",
    "    :param conv_num_outputs: Number of outputs for the convolutional layer\n",
    "    :param conv_ksize: kernal size 2-D Tuple for the convolutional layer\n",
    "    :param conv_strides: Stride 2-D Tuple for convolution\n",
    "    :param pool_ksize: kernal size 2-D Tuple for pool\n",
    "    :param pool_strides: Stride 2-D Tuple for pool\n",
    "    : return: A tensor that represents convolution and max pooling of x_tensor\n",
    "    \"\"\"\n",
    "    # TODO: Implement Function\n",
    "    # \n",
    "    # Filter weights\n",
    "    #\n",
    "    filter_height,filter_width=conv_ksize\n",
    "    depth=x_tensor.get_shape().as_list()[-1]\n",
    "\n",
    "    filter_weights = tf.Variable(tf.truncated_normal([filter_height,filter_width,depth,conv_num_outputs],stddev=0.1))\n",
    "    #    filter_bias = tf.Variable(tf.zeros([conv_num_outputs]))\n",
    "    filter_bias = tf.Variable(tf.truncated_normal([conv_num_outputs],stddev=0.5))\n",
    "    #\n",
    "    # Convolutions, bias, Relu\n",
    "    #\n",
    "    padding='SAME'\n",
    "    strides=[1,*list(conv_strides),1]\n",
    "\n",
    "    conv_layer = tf.nn.conv2d(x_tensor, filter_weights, strides, padding )\n",
    "    conv_layer = tf.nn.bias_add(conv_layer, filter_bias)\n",
    "    #    conv_layer = tf.nn.relu(conv_layer)\n",
    "    #    conv_layer = tf.nn.tanh(conv_layer)\n",
    "    conv_layer = tf.nn.elu(conv_layer)\n",
    "\n",
    "    # \n",
    "    # Max Pooling\n",
    "    #    \n",
    "    pool_ksize=[1,*list(pool_ksize),1]\n",
    "    pool_strides=[1,*list(pool_strides),1]\n",
    "\n",
    "    conv_pool = tf.nn.max_pool(conv_layer,pool_ksize,pool_strides,padding)\n",
    "    \n",
    "    return conv_pool\n",
    "\n",
    "\n",
    "\n",
    "\"\"\"\n",
    "DON'T MODIFY ANYTHING IN THIS CELL THAT IS BELOW THIS LINE\n",
    "\"\"\"\n",
    "tests.test_con_pool(conv2d_maxpool)"
   ]
  },
  {
   "cell_type": "markdown",
   "metadata": {
    "deletable": true,
    "editable": true
   },
   "source": [
    "### Flatten Layer\n",
    "Implement the `flatten` function to change the dimension of `x_tensor` from a 4-D tensor to a 2-D tensor.  The output should be the shape (*Batch Size*, *Flattened Image Size*). Shortcut option: you can use classes from the [TensorFlow Layers](https://www.tensorflow.org/api_docs/python/tf/layers) or [TensorFlow Layers (contrib)](https://www.tensorflow.org/api_guides/python/contrib.layers) packages for this layer. For more of a challenge, only use other TensorFlow packages."
   ]
  },
  {
   "cell_type": "code",
   "execution_count": 14,
   "metadata": {
    "collapsed": false,
    "deletable": true,
    "editable": true
   },
   "outputs": [
    {
     "name": "stdout",
     "output_type": "stream",
     "text": [
      "Tests Passed\n"
     ]
    }
   ],
   "source": [
    "def flatten(x_tensor):\n",
    "    \"\"\"\n",
    "    Flatten x_tensor to (Batch Size, Flattened Image Size)\n",
    "    : x_tensor: A tensor of size (Batch Size, ...), where ... are the image dimensions.\n",
    "    : return: A tensor of size (Batch Size, Flattened Image Size).\n",
    "    \"\"\"\n",
    "    # TODO: Implement Function\n",
    "    flattened=tf.contrib.layers.flatten(x_tensor)\n",
    "    return flattened\n",
    "\n",
    "\n",
    "\"\"\"\n",
    "DON'T MODIFY ANYTHING IN THIS CELL THAT IS BELOW THIS LINE\n",
    "\"\"\"\n",
    "tests.test_flatten(flatten)"
   ]
  },
  {
   "cell_type": "markdown",
   "metadata": {
    "deletable": true,
    "editable": true
   },
   "source": [
    "### Fully-Connected Layer\n",
    "Implement the `fully_conn` function to apply a fully connected layer to `x_tensor` with the shape (*Batch Size*, *num_outputs*). Shortcut option: you can use classes from the [TensorFlow Layers](https://www.tensorflow.org/api_docs/python/tf/layers) or [TensorFlow Layers (contrib)](https://www.tensorflow.org/api_guides/python/contrib.layers) packages for this layer. For more of a challenge, only use other TensorFlow packages."
   ]
  },
  {
   "cell_type": "code",
   "execution_count": 15,
   "metadata": {
    "collapsed": false,
    "deletable": true,
    "editable": true
   },
   "outputs": [
    {
     "name": "stdout",
     "output_type": "stream",
     "text": [
      "Tests Passed\n"
     ]
    }
   ],
   "source": [
    "def fully_conn(x_tensor, num_outputs):\n",
    "    \"\"\"\n",
    "    Apply a fully connected layer to x_tensor using weight and bias\n",
    "    : x_tensor: A 2-D tensor where the first dimension is batch size.\n",
    "    : num_outputs: The number of output that the new tensor should be.\n",
    "    : return: A 2-D tensor where the second dimension is num_outputs.\n",
    "    \"\"\"\n",
    "    # TODO: Implement Function\n",
    "    \n",
    "    full_conn = tf.layers.dense(inputs=x_tensor, units=num_outputs, activation=tf.nn.elu)\n",
    "    return full_conn\n",
    "\n",
    "\n",
    "\"\"\"\n",
    "DON'T MODIFY ANYTHING IN THIS CELL THAT IS BELOW THIS LINE\n",
    "\"\"\"\n",
    "tests.test_fully_conn(fully_conn)"
   ]
  },
  {
   "cell_type": "markdown",
   "metadata": {
    "deletable": true,
    "editable": true
   },
   "source": [
    "### Output Layer\n",
    "Implement the `output` function to apply a fully connected layer to `x_tensor` with the shape (*Batch Size*, *num_outputs*). Shortcut option: you can use classes from the [TensorFlow Layers](https://www.tensorflow.org/api_docs/python/tf/layers) or [TensorFlow Layers (contrib)](https://www.tensorflow.org/api_guides/python/contrib.layers) packages for this layer. For more of a challenge, only use other TensorFlow packages.\n",
    "\n",
    "**Note:** Activation, softmax, or cross entropy should **not** be applied to this."
   ]
  },
  {
   "cell_type": "code",
   "execution_count": 16,
   "metadata": {
    "collapsed": false,
    "deletable": true,
    "editable": true
   },
   "outputs": [
    {
     "name": "stdout",
     "output_type": "stream",
     "text": [
      "Tests Passed\n"
     ]
    }
   ],
   "source": [
    "def output(x_tensor, num_outputs):\n",
    "    \"\"\"\n",
    "    Apply a output layer to x_tensor using weight and bias\n",
    "    : x_tensor: A 2-D tensor where the first dimension is batch size.\n",
    "    : num_outputs: The number of output that the new tensor should be.\n",
    "    : return: A 2-D tensor where the second dimension is num_outputs.\n",
    "    \"\"\"\n",
    "    # TODO: Implement Function\n",
    "\n",
    "    out_tensor= tf.layers.dense(inputs=x_tensor, units=num_outputs, activation=None)\n",
    "    return out_tensor\n",
    "\n",
    "\n",
    "\"\"\"\n",
    "DON'T MODIFY ANYTHING IN THIS CELL THAT IS BELOW THIS LINE\n",
    "\"\"\"\n",
    "tests.test_output(output)"
   ]
  },
  {
   "cell_type": "markdown",
   "metadata": {
    "deletable": true,
    "editable": true
   },
   "source": [
    "### Create Convolutional Model\n",
    "Implement the function `conv_net` to create a convolutional neural network model. The function takes in a batch of images, `x`, and outputs logits.  Use the layers you created above to create this model:\n",
    "\n",
    "* Apply 1, 2, or 3 Convolution and Max Pool layers\n",
    "* Apply a Flatten Layer\n",
    "* Apply 1, 2, or 3 Fully Connected Layers\n",
    "* Apply an Output Layer\n",
    "* Return the output\n",
    "* Apply [TensorFlow's Dropout](https://www.tensorflow.org/api_docs/python/tf/nn/dropout) to one or more layers in the model using `keep_prob`. "
   ]
  },
  {
   "cell_type": "code",
   "execution_count": 43,
   "metadata": {
    "collapsed": false,
    "deletable": true,
    "editable": true
   },
   "outputs": [
    {
     "name": "stdout",
     "output_type": "stream",
     "text": [
      "1==> [None, 16, 16, 96]\n",
      "2==> [None, 8, 8, 32]\n",
      "2==> [None, 4, 4, 32]\n",
      "1==> [None, 16, 16, 96]\n",
      "2==> [None, 8, 8, 32]\n",
      "2==> [None, 4, 4, 32]\n",
      "Neural Network Built!\n"
     ]
    }
   ],
   "source": [
    "def conv_net(x, keep_prob):\n",
    "    \"\"\"\n",
    "    Create a convolutional neural network model\n",
    "    : x: Placeholder tensor that holds image data.\n",
    "    : keep_prob: Placeholder tensor that hold dropout keep probability.\n",
    "    : return: Tensor that represents logits\n",
    "    \"\"\"\n",
    "    # TODO: Apply 1, 2, or 3 Convolution and Max Pool layers\n",
    "    #    Play around with different number of outputs, kernel size and stride\n",
    "    # Function Definition from Above:\n",
    "    #    conv2d_maxpool(x_tensor, conv_num_outputs, conv_ksize, conv_strides, pool_ksize, pool_strides)\n",
    "    \n",
    "    conv_num_outputs=96\n",
    "    conv_ksize=(5,5)\n",
    "    conv_strides=(1,1)\n",
    "    pool_ksize=(3,3)\n",
    "    pool_strides=(2,2)\n",
    "    x_tensor1=conv2d_maxpool(x, conv_num_outputs, conv_ksize, conv_strides, pool_ksize, pool_strides)\n",
    "    print(\"1==>\",x_tensor1.get_shape().as_list())\n",
    "    x_tensor1 = tf.nn.dropout(x_tensor1, keep_prob)\n",
    "    \n",
    "    conv_num_outputs=32\n",
    "    conv_ksize=(4,4)\n",
    "    conv_strides=(1,1)\n",
    "    pool_ksize=(2,2)\n",
    "    pool_strides=(2,2)\n",
    "    x_tensor2=conv2d_maxpool(x_tensor1, conv_num_outputs, conv_ksize, conv_strides, pool_ksize, pool_strides)\n",
    "    print(\"2==>\",x_tensor2.get_shape().as_list())\n",
    "    x_tensor2 = tf.nn.dropout(x_tensor2, keep_prob)\n",
    "\n",
    "    conv_num_outputs=32\n",
    "    conv_ksize=(3,3)\n",
    "    conv_strides=(1,1)\n",
    "    pool_ksize=(2,2)\n",
    "    pool_strides=(2,2)\n",
    "    x_tensor3=conv2d_maxpool(x_tensor2, conv_num_outputs, conv_ksize, conv_strides, pool_ksize, pool_strides)\n",
    "    print(\"2==>\",x_tensor3.get_shape().as_list())\n",
    "    x_tensor3 = tf.nn.dropout(x_tensor3, keep_prob)\n",
    "\n",
    "\n",
    "    # TODO: Apply a Flatten Layer\n",
    "    # Function Definition from Above:\n",
    "\n",
    "    x_tensor=flatten(x_tensor3)\n",
    "    x_tensor = tf.nn.dropout(x_tensor, keep_prob)\n",
    "\n",
    "    \n",
    "\n",
    "    # TODO: Apply 1, 2, or 3 Fully Connected Layers\n",
    "    #    Play around with different number of outputs\n",
    "    # Function Definition from Above:\n",
    "    #   fully_conn(x_tensor, num_outputs)\n",
    "\n",
    "    x_tensor=fully_conn(x_tensor, 1024)\n",
    "    x_tensor=fully_conn(x_tensor, 1024)\n",
    "\n",
    "    \n",
    "    # TODO: Apply an Output Layer\n",
    "    #    Set this to the number of classes\n",
    "    # Function Definition from Above:\n",
    "    #   output(x_tensor, num_outputs)\n",
    "    \n",
    "    num_outputs=10\n",
    "    x_tensor=output(x_tensor, num_outputs)\n",
    "    \n",
    "    \n",
    "    # TODO: return output\n",
    "    return x_tensor\n",
    "\n",
    "\n",
    "\"\"\"\n",
    "DON'T MODIFY ANYTHING IN THIS CELL THAT IS BELOW THIS LINE\n",
    "\"\"\"\n",
    "\n",
    "##############################\n",
    "## Build the Neural Network ##\n",
    "##############################\n",
    "\n",
    "# Remove previous weights, bias, inputs, etc..\n",
    "tf.reset_default_graph()\n",
    "\n",
    "# Inputs\n",
    "x = neural_net_image_input((32, 32, 3))\n",
    "y = neural_net_label_input(10)\n",
    "keep_prob = neural_net_keep_prob_input()\n",
    "\n",
    "# Model\n",
    "logits = conv_net(x, keep_prob)\n",
    "\n",
    "# Name logits Tensor, so that is can be loaded from disk after training\n",
    "logits = tf.identity(logits, name='logits')\n",
    "\n",
    "# Loss and Optimizer\n",
    "cost = tf.reduce_mean(tf.nn.softmax_cross_entropy_with_logits(logits=logits, labels=y))\n",
    "optimizer = tf.train.AdamOptimizer().minimize(cost)\n",
    "\n",
    "# Accuracy\n",
    "correct_pred = tf.equal(tf.argmax(logits, 1), tf.argmax(y, 1))\n",
    "accuracy = tf.reduce_mean(tf.cast(correct_pred, tf.float32), name='accuracy')\n",
    "\n",
    "tests.test_conv_net(conv_net)"
   ]
  },
  {
   "cell_type": "markdown",
   "metadata": {
    "deletable": true,
    "editable": true
   },
   "source": [
    "## Train the Neural Network\n",
    "### Single Optimization\n",
    "Implement the function `train_neural_network` to do a single optimization.  The optimization should use `optimizer` to optimize in `session` with a `feed_dict` of the following:\n",
    "* `x` for image input\n",
    "* `y` for labels\n",
    "* `keep_prob` for keep probability for dropout\n",
    "\n",
    "This function will be called for each batch, so `tf.global_variables_initializer()` has already been called.\n",
    "\n",
    "Note: Nothing needs to be returned. This function is only optimizing the neural network."
   ]
  },
  {
   "cell_type": "code",
   "execution_count": 44,
   "metadata": {
    "collapsed": false,
    "deletable": true,
    "editable": true
   },
   "outputs": [
    {
     "name": "stdout",
     "output_type": "stream",
     "text": [
      "Tests Passed\n"
     ]
    }
   ],
   "source": [
    "def train_neural_network(session, optimizer, keep_probability, feature_batch, label_batch):\n",
    "    \"\"\"\n",
    "    Optimize the session on a batch of images and labels\n",
    "    : session: Current TensorFlow session\n",
    "    : optimizer: TensorFlow optimizer function\n",
    "    : keep_probability: keep probability\n",
    "    : feature_batch: Batch of Numpy image data\n",
    "    : label_batch: Batch of Numpy label data\n",
    "    \"\"\"\n",
    "    # TODO: Implement Function\n",
    "    session.run(optimizer,feed_dict={x:feature_batch,y:label_batch, keep_prob:keep_probability})\n",
    "\n",
    "\n",
    "\n",
    "\"\"\"\n",
    "DON'T MODIFY ANYTHING IN THIS CELL THAT IS BELOW THIS LINE\n",
    "\"\"\"\n",
    "tests.test_train_nn(train_neural_network)"
   ]
  },
  {
   "cell_type": "markdown",
   "metadata": {
    "deletable": true,
    "editable": true
   },
   "source": [
    "### Show Stats\n",
    "Implement the function `print_stats` to print loss and validation accuracy.  Use the global variables `valid_features` and `valid_labels` to calculate validation accuracy.  Use a keep probability of `1.0` to calculate the loss and validation accuracy."
   ]
  },
  {
   "cell_type": "code",
   "execution_count": 45,
   "metadata": {
    "collapsed": false,
    "deletable": true,
    "editable": true
   },
   "outputs": [],
   "source": [
    "import sys\n",
    "def print_stats(session, feature_batch, label_batch, cost, accuracy):\n",
    "    \"\"\"\n",
    "    Print information about loss and validation accuracy\n",
    "    : session: Current TensorFlow session\n",
    "    : feature_batch: Batch of Numpy image data\n",
    "    : label_batch: Batch of Numpy label data\n",
    "    : cost: TensorFlow cost function\n",
    "    : accuracy: TensorFlow accuracy function\n",
    "    \"\"\"\n",
    "    # TODO: Implement Function\n",
    "    \n",
    "    vcost=session.run(cost, feed_dict={x: feature_batch, y: label_batch,keep_prob:1.0})\n",
    "    vaccuracy=session.run(accuracy, feed_dict={x: valid_features, y: valid_labels,keep_prob:1.0})\n",
    "    #     sys.stdout.write('\\bCost: {:>3.6f} Accuracy: {:.6f}\\r'.format(vcost, vaccuracy))\n",
    "    #     sys.stdout.flush()\n",
    "    print('Cost: {:>3.6f} Accuracy: {:.6f}'.format(vcost, vaccuracy))\n"
   ]
  },
  {
   "cell_type": "markdown",
   "metadata": {
    "deletable": true,
    "editable": true
   },
   "source": [
    "### Hyperparameters\n",
    "Tune the following parameters:\n",
    "* Set `epochs` to the number of iterations until the network stops learning or start overfitting\n",
    "* Set `batch_size` to the highest number that your machine has memory for.  Most people set them to common sizes of memory:\n",
    " * 64\n",
    " * 128\n",
    " * 256\n",
    " * ...\n",
    "* Set `keep_probability` to the probability of keeping a node using dropout"
   ]
  },
  {
   "cell_type": "code",
   "execution_count": 46,
   "metadata": {
    "collapsed": true,
    "deletable": true,
    "editable": true
   },
   "outputs": [],
   "source": [
    "# TODO: Tune Parameters\n",
    "epochs = 50\n",
    "batch_size = 128\n",
    "keep_probability = 0.6"
   ]
  },
  {
   "cell_type": "markdown",
   "metadata": {
    "deletable": true,
    "editable": true
   },
   "source": [
    "### Train on a Single CIFAR-10 Batch\n",
    "Instead of training the neural network on all the CIFAR-10 batches of data, let's use a single batch. This should save time while you iterate on the model to get a better accuracy.  Once the final validation accuracy is 50% or greater, run the model on all the data in the next section."
   ]
  },
  {
   "cell_type": "code",
   "execution_count": 47,
   "metadata": {
    "collapsed": false,
    "deletable": true,
    "editable": true
   },
   "outputs": [
    {
     "name": "stdout",
     "output_type": "stream",
     "text": [
      "Checking the Training on a Single Batch...\n",
      "Epoch  1, CIFAR-10 Batch 1:  Cost: 2.330411 Accuracy: 0.207800\n",
      "Epoch  2, CIFAR-10 Batch 1:  Cost: 2.357181 Accuracy: 0.258600\n",
      "Epoch  3, CIFAR-10 Batch 1:  Cost: 2.144155 Accuracy: 0.333400\n",
      "Epoch  4, CIFAR-10 Batch 1:  Cost: 2.205251 Accuracy: 0.347000\n",
      "Epoch  5, CIFAR-10 Batch 1:  Cost: 2.070915 Accuracy: 0.360000\n",
      "Epoch  6, CIFAR-10 Batch 1:  Cost: 2.266169 Accuracy: 0.360400\n",
      "Epoch  7, CIFAR-10 Batch 1:  Cost: 1.989459 Accuracy: 0.407400\n",
      "Epoch  8, CIFAR-10 Batch 1:  Cost: 1.811224 Accuracy: 0.415200\n",
      "Epoch  9, CIFAR-10 Batch 1:  Cost: 1.716687 Accuracy: 0.419600\n",
      "Epoch 10, CIFAR-10 Batch 1:  Cost: 1.801534 Accuracy: 0.424400\n",
      "Epoch 11, CIFAR-10 Batch 1:  Cost: 1.594967 Accuracy: 0.439800\n",
      "Epoch 12, CIFAR-10 Batch 1:  Cost: 1.485118 Accuracy: 0.461400\n",
      "Epoch 13, CIFAR-10 Batch 1:  Cost: 1.489261 Accuracy: 0.441600\n",
      "Epoch 14, CIFAR-10 Batch 1:  Cost: 1.416540 Accuracy: 0.472600\n",
      "Epoch 15, CIFAR-10 Batch 1:  Cost: 1.340678 Accuracy: 0.476800\n",
      "Epoch 16, CIFAR-10 Batch 1:  Cost: 1.226942 Accuracy: 0.491800\n",
      "Epoch 17, CIFAR-10 Batch 1:  Cost: 0.988878 Accuracy: 0.506600\n",
      "Epoch 18, CIFAR-10 Batch 1:  Cost: 1.040287 Accuracy: 0.479600\n",
      "Epoch 19, CIFAR-10 Batch 1:  Cost: 0.927968 Accuracy: 0.501000\n",
      "Epoch 20, CIFAR-10 Batch 1:  Cost: 0.847326 Accuracy: 0.515800\n",
      "Epoch 21, CIFAR-10 Batch 1:  Cost: 0.822290 Accuracy: 0.520000\n",
      "Epoch 22, CIFAR-10 Batch 1:  Cost: 0.677366 Accuracy: 0.532200\n",
      "Epoch 23, CIFAR-10 Batch 1:  Cost: 0.600650 Accuracy: 0.548000\n",
      "Epoch 24, CIFAR-10 Batch 1:  Cost: 0.635082 Accuracy: 0.538000\n",
      "Epoch 25, CIFAR-10 Batch 1:  Cost: 0.649465 Accuracy: 0.517000\n",
      "Epoch 26, CIFAR-10 Batch 1:  Cost: 0.511416 Accuracy: 0.539200\n",
      "Epoch 27, CIFAR-10 Batch 1:  Cost: 0.487430 Accuracy: 0.542200\n",
      "Epoch 28, CIFAR-10 Batch 1:  Cost: 0.438459 Accuracy: 0.539400\n",
      "Epoch 29, CIFAR-10 Batch 1:  Cost: 0.567443 Accuracy: 0.521000\n",
      "Epoch 30, CIFAR-10 Batch 1:  Cost: 0.371904 Accuracy: 0.542000\n",
      "Epoch 31, CIFAR-10 Batch 1:  Cost: 0.341092 Accuracy: 0.558600\n",
      "Epoch 32, CIFAR-10 Batch 1:  Cost: 0.277002 Accuracy: 0.544800\n",
      "Epoch 33, CIFAR-10 Batch 1:  Cost: 0.214153 Accuracy: 0.552600\n",
      "Epoch 34, CIFAR-10 Batch 1:  Cost: 0.255778 Accuracy: 0.547600\n",
      "Epoch 35, CIFAR-10 Batch 1:  Cost: 0.201860 Accuracy: 0.552800\n",
      "Epoch 36, CIFAR-10 Batch 1:  Cost: 0.228699 Accuracy: 0.528200\n",
      "Epoch 37, CIFAR-10 Batch 1:  Cost: 0.090456 Accuracy: 0.557800\n",
      "Epoch 38, CIFAR-10 Batch 1:  Cost: 0.096462 Accuracy: 0.552600\n",
      "Epoch 39, CIFAR-10 Batch 1:  Cost: 0.130877 Accuracy: 0.544600\n",
      "Epoch 40, CIFAR-10 Batch 1:  Cost: 0.165221 Accuracy: 0.532600\n",
      "Epoch 41, CIFAR-10 Batch 1:  Cost: 0.251178 Accuracy: 0.526800\n",
      "Epoch 42, CIFAR-10 Batch 1:  Cost: 0.082190 Accuracy: 0.557200\n",
      "Epoch 43, CIFAR-10 Batch 1:  Cost: 0.066576 Accuracy: 0.556200\n",
      "Epoch 44, CIFAR-10 Batch 1:  Cost: 0.090181 Accuracy: 0.553600\n",
      "Epoch 45, CIFAR-10 Batch 1:  Cost: 0.097744 Accuracy: 0.544000\n",
      "Epoch 46, CIFAR-10 Batch 1:  Cost: 0.075003 Accuracy: 0.552200\n",
      "Epoch 47, CIFAR-10 Batch 1:  Cost: 0.040200 Accuracy: 0.562800\n",
      "Epoch 48, CIFAR-10 Batch 1:  Cost: 0.063705 Accuracy: 0.550000\n",
      "Epoch 49, CIFAR-10 Batch 1:  Cost: 0.057924 Accuracy: 0.543800\n",
      "Epoch 50, CIFAR-10 Batch 1:  Cost: 0.059824 Accuracy: 0.540600\n"
     ]
    }
   ],
   "source": [
    "\"\"\"\n",
    "DON'T MODIFY ANYTHING IN THIS CELL\n",
    "\"\"\"\n",
    "print('Checking the Training on a Single Batch...')\n",
    "with tf.Session() as sess:\n",
    "    # Initializing the variables\n",
    "    sess.run(tf.global_variables_initializer())\n",
    "    \n",
    "    # Training cycle\n",
    "    for epoch in range(epochs):\n",
    "        batch_i = 1\n",
    "        for batch_features, batch_labels in helper.load_preprocess_training_batch(batch_i, batch_size):\n",
    "            train_neural_network(sess, optimizer, keep_probability, batch_features, batch_labels)\n",
    "        print('Epoch {:>2}, CIFAR-10 Batch {}:  '.format(epoch + 1, batch_i), end='')\n",
    "        print_stats(sess, batch_features, batch_labels, cost, accuracy)"
   ]
  },
  {
   "cell_type": "markdown",
   "metadata": {
    "deletable": true,
    "editable": true
   },
   "source": [
    "### Fully Train the Model\n",
    "Now that you got a good accuracy with a single CIFAR-10 batch, try it with all five batches."
   ]
  },
  {
   "cell_type": "code",
   "execution_count": 48,
   "metadata": {
    "collapsed": false,
    "deletable": true,
    "editable": true
   },
   "outputs": [
    {
     "name": "stdout",
     "output_type": "stream",
     "text": [
      "Training...\n",
      "Epoch  1, CIFAR-10 Batch 1:  Cost: 2.552893 Accuracy: 0.190000\n",
      "Epoch  1, CIFAR-10 Batch 2:  Cost: 2.197219 Accuracy: 0.296600\n",
      "Epoch  1, CIFAR-10 Batch 3:  Cost: 1.663290 Accuracy: 0.363400\n",
      "Epoch  1, CIFAR-10 Batch 4:  Cost: 1.862195 Accuracy: 0.378600\n",
      "Epoch  1, CIFAR-10 Batch 5:  Cost: 2.062209 Accuracy: 0.384200\n",
      "Epoch  2, CIFAR-10 Batch 1:  Cost: 2.086032 Accuracy: 0.382800\n",
      "Epoch  2, CIFAR-10 Batch 2:  Cost: 2.243838 Accuracy: 0.408400\n",
      "Epoch  2, CIFAR-10 Batch 3:  Cost: 1.689245 Accuracy: 0.445200\n",
      "Epoch  2, CIFAR-10 Batch 4:  Cost: 1.956084 Accuracy: 0.434000\n",
      "Epoch  2, CIFAR-10 Batch 5:  Cost: 1.973842 Accuracy: 0.415800\n",
      "Epoch  3, CIFAR-10 Batch 1:  Cost: 1.677787 Accuracy: 0.443800\n",
      "Epoch  3, CIFAR-10 Batch 2:  Cost: 1.899101 Accuracy: 0.424400\n",
      "Epoch  3, CIFAR-10 Batch 3:  Cost: 1.365679 Accuracy: 0.475200\n",
      "Epoch  3, CIFAR-10 Batch 4:  Cost: 1.544480 Accuracy: 0.471400\n",
      "Epoch  3, CIFAR-10 Batch 5:  Cost: 1.670568 Accuracy: 0.439600\n",
      "Epoch  4, CIFAR-10 Batch 1:  Cost: 1.521064 Accuracy: 0.490600\n",
      "Epoch  4, CIFAR-10 Batch 2:  Cost: 1.623757 Accuracy: 0.439800\n",
      "Epoch  4, CIFAR-10 Batch 3:  Cost: 1.367586 Accuracy: 0.499000\n",
      "Epoch  4, CIFAR-10 Batch 4:  Cost: 1.440147 Accuracy: 0.479800\n",
      "Epoch  4, CIFAR-10 Batch 5:  Cost: 1.459695 Accuracy: 0.480400\n",
      "Epoch  5, CIFAR-10 Batch 1:  Cost: 1.527899 Accuracy: 0.510800\n",
      "Epoch  5, CIFAR-10 Batch 2:  Cost: 1.323961 Accuracy: 0.479600\n",
      "Epoch  5, CIFAR-10 Batch 3:  Cost: 1.212776 Accuracy: 0.521600\n",
      "Epoch  5, CIFAR-10 Batch 4:  Cost: 1.289342 Accuracy: 0.513600\n",
      "Epoch  5, CIFAR-10 Batch 5:  Cost: 1.319010 Accuracy: 0.483800\n",
      "Epoch  6, CIFAR-10 Batch 1:  Cost: 1.339788 Accuracy: 0.511400\n",
      "Epoch  6, CIFAR-10 Batch 2:  Cost: 1.252055 Accuracy: 0.520200\n",
      "Epoch  6, CIFAR-10 Batch 3:  Cost: 1.052786 Accuracy: 0.517800\n",
      "Epoch  6, CIFAR-10 Batch 4:  Cost: 1.063456 Accuracy: 0.550600\n",
      "Epoch  6, CIFAR-10 Batch 5:  Cost: 1.213635 Accuracy: 0.522600\n",
      "Epoch  7, CIFAR-10 Batch 1:  Cost: 1.246779 Accuracy: 0.537200\n",
      "Epoch  7, CIFAR-10 Batch 2:  Cost: 1.209839 Accuracy: 0.523400\n",
      "Epoch  7, CIFAR-10 Batch 3:  Cost: 0.896747 Accuracy: 0.551400\n",
      "Epoch  7, CIFAR-10 Batch 4:  Cost: 1.028527 Accuracy: 0.551400\n",
      "Epoch  7, CIFAR-10 Batch 5:  Cost: 1.208760 Accuracy: 0.530400\n",
      "Epoch  8, CIFAR-10 Batch 1:  Cost: 1.027461 Accuracy: 0.571800\n",
      "Epoch  8, CIFAR-10 Batch 2:  Cost: 1.012950 Accuracy: 0.540800\n",
      "Epoch  8, CIFAR-10 Batch 3:  Cost: 0.964432 Accuracy: 0.565800\n",
      "Epoch  8, CIFAR-10 Batch 4:  Cost: 0.705120 Accuracy: 0.608800\n",
      "Epoch  8, CIFAR-10 Batch 5:  Cost: 1.101447 Accuracy: 0.557000\n",
      "Epoch  9, CIFAR-10 Batch 1:  Cost: 1.064077 Accuracy: 0.592600\n",
      "Epoch  9, CIFAR-10 Batch 2:  Cost: 0.937745 Accuracy: 0.588800\n",
      "Epoch  9, CIFAR-10 Batch 3:  Cost: 0.772770 Accuracy: 0.597000\n",
      "Epoch  9, CIFAR-10 Batch 4:  Cost: 0.767622 Accuracy: 0.594600\n",
      "Epoch  9, CIFAR-10 Batch 5:  Cost: 0.966913 Accuracy: 0.587400\n",
      "Epoch 10, CIFAR-10 Batch 1:  Cost: 0.950239 Accuracy: 0.607400\n",
      "Epoch 10, CIFAR-10 Batch 2:  Cost: 0.977001 Accuracy: 0.587200\n",
      "Epoch 10, CIFAR-10 Batch 3:  Cost: 0.916194 Accuracy: 0.554600\n",
      "Epoch 10, CIFAR-10 Batch 4:  Cost: 0.741122 Accuracy: 0.606200\n",
      "Epoch 10, CIFAR-10 Batch 5:  Cost: 0.976651 Accuracy: 0.586400\n",
      "Epoch 11, CIFAR-10 Batch 1:  Cost: 1.033479 Accuracy: 0.602800\n",
      "Epoch 11, CIFAR-10 Batch 2:  Cost: 0.766161 Accuracy: 0.623600\n",
      "Epoch 11, CIFAR-10 Batch 3:  Cost: 0.933812 Accuracy: 0.599200\n",
      "Epoch 11, CIFAR-10 Batch 4:  Cost: 0.695782 Accuracy: 0.613600\n",
      "Epoch 11, CIFAR-10 Batch 5:  Cost: 0.982759 Accuracy: 0.614400\n",
      "Epoch 12, CIFAR-10 Batch 1:  Cost: 0.856095 Accuracy: 0.645400\n",
      "Epoch 12, CIFAR-10 Batch 2:  Cost: 0.733760 Accuracy: 0.641000\n",
      "Epoch 12, CIFAR-10 Batch 3:  Cost: 0.894072 Accuracy: 0.584200\n",
      "Epoch 12, CIFAR-10 Batch 4:  Cost: 0.593252 Accuracy: 0.647000\n",
      "Epoch 12, CIFAR-10 Batch 5:  Cost: 0.845521 Accuracy: 0.634600\n",
      "Epoch 13, CIFAR-10 Batch 1:  Cost: 0.745778 Accuracy: 0.643200\n",
      "Epoch 13, CIFAR-10 Batch 2:  Cost: 0.678325 Accuracy: 0.618600\n",
      "Epoch 13, CIFAR-10 Batch 3:  Cost: 0.708742 Accuracy: 0.601000\n",
      "Epoch 13, CIFAR-10 Batch 4:  Cost: 0.535243 Accuracy: 0.659600\n",
      "Epoch 13, CIFAR-10 Batch 5:  Cost: 1.054096 Accuracy: 0.608400\n",
      "Epoch 14, CIFAR-10 Batch 1:  Cost: 0.707929 Accuracy: 0.640200\n",
      "Epoch 14, CIFAR-10 Batch 2:  Cost: 0.737713 Accuracy: 0.651000\n",
      "Epoch 14, CIFAR-10 Batch 3:  Cost: 0.590330 Accuracy: 0.613000\n",
      "Epoch 14, CIFAR-10 Batch 4:  Cost: 0.494410 Accuracy: 0.668200\n",
      "Epoch 14, CIFAR-10 Batch 5:  Cost: 0.914790 Accuracy: 0.612600\n",
      "Epoch 15, CIFAR-10 Batch 1:  Cost: 0.793033 Accuracy: 0.674600\n",
      "Epoch 15, CIFAR-10 Batch 2:  Cost: 0.710058 Accuracy: 0.662000\n",
      "Epoch 15, CIFAR-10 Batch 3:  Cost: 0.699618 Accuracy: 0.626400\n",
      "Epoch 15, CIFAR-10 Batch 4:  Cost: 0.421065 Accuracy: 0.678200\n",
      "Epoch 15, CIFAR-10 Batch 5:  Cost: 0.605487 Accuracy: 0.665600\n",
      "Epoch 16, CIFAR-10 Batch 1:  Cost: 0.764810 Accuracy: 0.671200\n",
      "Epoch 16, CIFAR-10 Batch 2:  Cost: 0.596673 Accuracy: 0.668400\n",
      "Epoch 16, CIFAR-10 Batch 3:  Cost: 0.432130 Accuracy: 0.662000\n",
      "Epoch 16, CIFAR-10 Batch 4:  Cost: 0.425936 Accuracy: 0.699400\n",
      "Epoch 16, CIFAR-10 Batch 5:  Cost: 0.738106 Accuracy: 0.654600\n",
      "Epoch 17, CIFAR-10 Batch 1:  Cost: 0.518489 Accuracy: 0.680200\n",
      "Epoch 17, CIFAR-10 Batch 2:  Cost: 0.551521 Accuracy: 0.679000\n",
      "Epoch 17, CIFAR-10 Batch 3:  Cost: 0.397746 Accuracy: 0.659400\n",
      "Epoch 17, CIFAR-10 Batch 4:  Cost: 0.375108 Accuracy: 0.667200\n",
      "Epoch 17, CIFAR-10 Batch 5:  Cost: 0.693327 Accuracy: 0.650200\n",
      "Epoch 18, CIFAR-10 Batch 1:  Cost: 0.562448 Accuracy: 0.671000\n",
      "Epoch 18, CIFAR-10 Batch 2:  Cost: 0.504825 Accuracy: 0.676400\n",
      "Epoch 18, CIFAR-10 Batch 3:  Cost: 0.551543 Accuracy: 0.623600\n",
      "Epoch 18, CIFAR-10 Batch 4:  Cost: 0.345675 Accuracy: 0.681000\n",
      "Epoch 18, CIFAR-10 Batch 5:  Cost: 0.587487 Accuracy: 0.643200\n",
      "Epoch 19, CIFAR-10 Batch 1:  Cost: 0.653007 Accuracy: 0.677600\n",
      "Epoch 19, CIFAR-10 Batch 2:  Cost: 0.443232 Accuracy: 0.696200\n",
      "Epoch 19, CIFAR-10 Batch 3:  Cost: 0.424589 Accuracy: 0.657400\n",
      "Epoch 19, CIFAR-10 Batch 4:  Cost: 0.400523 Accuracy: 0.708600\n",
      "Epoch 19, CIFAR-10 Batch 5:  Cost: 0.471783 Accuracy: 0.689600\n",
      "Epoch 20, CIFAR-10 Batch 1:  Cost: 0.641502 Accuracy: 0.683000\n",
      "Epoch 20, CIFAR-10 Batch 2:  Cost: 0.451358 Accuracy: 0.676200\n",
      "Epoch 20, CIFAR-10 Batch 3:  Cost: 0.282889 Accuracy: 0.689400\n",
      "Epoch 20, CIFAR-10 Batch 4:  Cost: 0.429660 Accuracy: 0.701800\n",
      "Epoch 20, CIFAR-10 Batch 5:  Cost: 0.584503 Accuracy: 0.674800\n",
      "Epoch 21, CIFAR-10 Batch 1:  Cost: 0.654388 Accuracy: 0.695800\n",
      "Epoch 21, CIFAR-10 Batch 2:  Cost: 0.287579 Accuracy: 0.712200\n",
      "Epoch 21, CIFAR-10 Batch 3:  Cost: 0.309183 Accuracy: 0.689600\n",
      "Epoch 21, CIFAR-10 Batch 4:  Cost: 0.304878 Accuracy: 0.705200\n",
      "Epoch 21, CIFAR-10 Batch 5:  Cost: 0.518469 Accuracy: 0.690400\n",
      "Epoch 22, CIFAR-10 Batch 1:  Cost: 0.636846 Accuracy: 0.691000\n",
      "Epoch 22, CIFAR-10 Batch 2:  Cost: 0.317412 Accuracy: 0.704200\n",
      "Epoch 22, CIFAR-10 Batch 3:  Cost: 0.207635 Accuracy: 0.691800\n",
      "Epoch 22, CIFAR-10 Batch 4:  Cost: 0.299220 Accuracy: 0.721800\n",
      "Epoch 22, CIFAR-10 Batch 5:  Cost: 0.484345 Accuracy: 0.680800\n",
      "Epoch 23, CIFAR-10 Batch 1:  Cost: 0.475966 Accuracy: 0.692600\n",
      "Epoch 23, CIFAR-10 Batch 2:  Cost: 0.286464 Accuracy: 0.702000\n",
      "Epoch 23, CIFAR-10 Batch 3:  Cost: 0.201336 Accuracy: 0.703200\n",
      "Epoch 23, CIFAR-10 Batch 4:  Cost: 0.437524 Accuracy: 0.693600\n",
      "Epoch 23, CIFAR-10 Batch 5:  Cost: 0.359150 Accuracy: 0.699800\n",
      "Epoch 24, CIFAR-10 Batch 1:  Cost: 0.526265 Accuracy: 0.712400\n",
      "Epoch 24, CIFAR-10 Batch 2:  Cost: 0.355391 Accuracy: 0.709600\n",
      "Epoch 24, CIFAR-10 Batch 3:  Cost: 0.191691 Accuracy: 0.710400\n",
      "Epoch 24, CIFAR-10 Batch 4:  Cost: 0.303596 Accuracy: 0.710200\n",
      "Epoch 24, CIFAR-10 Batch 5:  Cost: 0.359126 Accuracy: 0.700000\n",
      "Epoch 25, CIFAR-10 Batch 1:  Cost: 0.458634 Accuracy: 0.714400\n",
      "Epoch 25, CIFAR-10 Batch 2:  Cost: 0.271142 Accuracy: 0.712400\n",
      "Epoch 25, CIFAR-10 Batch 3:  Cost: 0.173751 Accuracy: 0.711200\n",
      "Epoch 25, CIFAR-10 Batch 4:  Cost: 0.244268 Accuracy: 0.714400\n",
      "Epoch 25, CIFAR-10 Batch 5:  Cost: 0.356730 Accuracy: 0.702800\n",
      "Epoch 26, CIFAR-10 Batch 1:  Cost: 0.490152 Accuracy: 0.708800\n",
      "Epoch 26, CIFAR-10 Batch 2:  Cost: 0.247395 Accuracy: 0.713800\n",
      "Epoch 26, CIFAR-10 Batch 3:  Cost: 0.164982 Accuracy: 0.704800\n",
      "Epoch 26, CIFAR-10 Batch 4:  Cost: 0.254285 Accuracy: 0.722800\n",
      "Epoch 26, CIFAR-10 Batch 5:  Cost: 0.384312 Accuracy: 0.703000\n",
      "Epoch 27, CIFAR-10 Batch 1:  Cost: 0.502956 Accuracy: 0.719400\n",
      "Epoch 27, CIFAR-10 Batch 2:  Cost: 0.282288 Accuracy: 0.724000\n",
      "Epoch 27, CIFAR-10 Batch 3:  Cost: 0.196177 Accuracy: 0.716400\n",
      "Epoch 27, CIFAR-10 Batch 4:  Cost: 0.236276 Accuracy: 0.711200\n",
      "Epoch 27, CIFAR-10 Batch 5:  Cost: 0.343679 Accuracy: 0.713200\n",
      "Epoch 28, CIFAR-10 Batch 1:  Cost: 0.506823 Accuracy: 0.712200\n",
      "Epoch 28, CIFAR-10 Batch 2:  Cost: 0.184834 Accuracy: 0.735600\n",
      "Epoch 28, CIFAR-10 Batch 3:  Cost: 0.194531 Accuracy: 0.714600\n",
      "Epoch 28, CIFAR-10 Batch 4:  Cost: 0.372986 Accuracy: 0.704600\n",
      "Epoch 28, CIFAR-10 Batch 5:  Cost: 0.312970 Accuracy: 0.701200\n",
      "Epoch 29, CIFAR-10 Batch 1:  Cost: 0.429462 Accuracy: 0.721800\n",
      "Epoch 29, CIFAR-10 Batch 2:  Cost: 0.155106 Accuracy: 0.724600\n",
      "Epoch 29, CIFAR-10 Batch 3:  Cost: 0.135065 Accuracy: 0.721000\n",
      "Epoch 29, CIFAR-10 Batch 4:  Cost: 0.275880 Accuracy: 0.724400\n",
      "Epoch 29, CIFAR-10 Batch 5:  Cost: 0.265383 Accuracy: 0.709800\n",
      "Epoch 30, CIFAR-10 Batch 1:  Cost: 0.420603 Accuracy: 0.714600\n",
      "Epoch 30, CIFAR-10 Batch 2:  Cost: 0.188108 Accuracy: 0.734000\n",
      "Epoch 30, CIFAR-10 Batch 3:  Cost: 0.128860 Accuracy: 0.719800\n",
      "Epoch 30, CIFAR-10 Batch 4:  Cost: 0.241895 Accuracy: 0.736800\n",
      "Epoch 30, CIFAR-10 Batch 5:  Cost: 0.277266 Accuracy: 0.714200\n",
      "Epoch 31, CIFAR-10 Batch 1:  Cost: 0.379156 Accuracy: 0.731400\n",
      "Epoch 31, CIFAR-10 Batch 2:  Cost: 0.194082 Accuracy: 0.727000\n",
      "Epoch 31, CIFAR-10 Batch 3:  Cost: 0.143487 Accuracy: 0.733800\n",
      "Epoch 31, CIFAR-10 Batch 4:  Cost: 0.284306 Accuracy: 0.737200\n",
      "Epoch 31, CIFAR-10 Batch 5:  Cost: 0.347733 Accuracy: 0.691600\n",
      "Epoch 32, CIFAR-10 Batch 1:  Cost: 0.329471 Accuracy: 0.724400\n",
      "Epoch 32, CIFAR-10 Batch 2:  Cost: 0.188943 Accuracy: 0.734600\n",
      "Epoch 32, CIFAR-10 Batch 3:  Cost: 0.114648 Accuracy: 0.734200\n",
      "Epoch 32, CIFAR-10 Batch 4:  Cost: 0.213411 Accuracy: 0.746000\n",
      "Epoch 32, CIFAR-10 Batch 5:  Cost: 0.218894 Accuracy: 0.730400\n",
      "Epoch 33, CIFAR-10 Batch 1:  Cost: 0.162981 Accuracy: 0.739800\n",
      "Epoch 33, CIFAR-10 Batch 2:  Cost: 0.143584 Accuracy: 0.739600\n",
      "Epoch 33, CIFAR-10 Batch 3:  Cost: 0.128169 Accuracy: 0.737400\n",
      "Epoch 33, CIFAR-10 Batch 4:  Cost: 0.158139 Accuracy: 0.751800\n",
      "Epoch 33, CIFAR-10 Batch 5:  Cost: 0.189566 Accuracy: 0.746200\n",
      "Epoch 34, CIFAR-10 Batch 1:  Cost: 0.189907 Accuracy: 0.743800\n",
      "Epoch 34, CIFAR-10 Batch 2:  Cost: 0.100034 Accuracy: 0.722200\n",
      "Epoch 34, CIFAR-10 Batch 3:  Cost: 0.128117 Accuracy: 0.736000\n",
      "Epoch 34, CIFAR-10 Batch 4:  Cost: 0.168939 Accuracy: 0.750600\n",
      "Epoch 34, CIFAR-10 Batch 5:  Cost: 0.258266 Accuracy: 0.730600\n",
      "Epoch 35, CIFAR-10 Batch 1:  Cost: 0.194020 Accuracy: 0.738600\n",
      "Epoch 35, CIFAR-10 Batch 2:  Cost: 0.123656 Accuracy: 0.745000\n",
      "Epoch 35, CIFAR-10 Batch 3:  Cost: 0.170481 Accuracy: 0.735000\n",
      "Epoch 35, CIFAR-10 Batch 4:  Cost: 0.136667 Accuracy: 0.755400\n",
      "Epoch 35, CIFAR-10 Batch 5:  Cost: 0.224698 Accuracy: 0.730200\n",
      "Epoch 36, CIFAR-10 Batch 1:  Cost: 0.176661 Accuracy: 0.734000\n",
      "Epoch 36, CIFAR-10 Batch 2:  Cost: 0.088252 Accuracy: 0.739200\n",
      "Epoch 36, CIFAR-10 Batch 3:  Cost: 0.116069 Accuracy: 0.741200\n",
      "Epoch 36, CIFAR-10 Batch 4:  Cost: 0.154092 Accuracy: 0.747000\n",
      "Epoch 36, CIFAR-10 Batch 5:  Cost: 0.152093 Accuracy: 0.743800\n",
      "Epoch 37, CIFAR-10 Batch 1:  Cost: 0.206729 Accuracy: 0.745800\n",
      "Epoch 37, CIFAR-10 Batch 2:  Cost: 0.201477 Accuracy: 0.732000\n",
      "Epoch 37, CIFAR-10 Batch 3:  Cost: 0.149217 Accuracy: 0.734800\n",
      "Epoch 37, CIFAR-10 Batch 4:  Cost: 0.099406 Accuracy: 0.747400\n",
      "Epoch 37, CIFAR-10 Batch 5:  Cost: 0.236152 Accuracy: 0.720200\n",
      "Epoch 38, CIFAR-10 Batch 1:  Cost: 0.228785 Accuracy: 0.733000\n",
      "Epoch 38, CIFAR-10 Batch 2:  Cost: 0.191812 Accuracy: 0.729600\n",
      "Epoch 38, CIFAR-10 Batch 3:  Cost: 0.142221 Accuracy: 0.737400\n",
      "Epoch 38, CIFAR-10 Batch 4:  Cost: 0.119399 Accuracy: 0.749200\n",
      "Epoch 38, CIFAR-10 Batch 5:  Cost: 0.081166 Accuracy: 0.731400\n",
      "Epoch 39, CIFAR-10 Batch 1:  Cost: 0.218559 Accuracy: 0.742400\n",
      "Epoch 39, CIFAR-10 Batch 2:  Cost: 0.179752 Accuracy: 0.743000\n",
      "Epoch 39, CIFAR-10 Batch 3:  Cost: 0.135734 Accuracy: 0.728600\n",
      "Epoch 39, CIFAR-10 Batch 4:  Cost: 0.167611 Accuracy: 0.741600\n",
      "Epoch 39, CIFAR-10 Batch 5:  Cost: 0.139749 Accuracy: 0.731600\n",
      "Epoch 40, CIFAR-10 Batch 1:  Cost: 0.115695 Accuracy: 0.752000\n",
      "Epoch 40, CIFAR-10 Batch 2:  Cost: 0.147295 Accuracy: 0.741800\n",
      "Epoch 40, CIFAR-10 Batch 3:  Cost: 0.091647 Accuracy: 0.744200\n",
      "Epoch 40, CIFAR-10 Batch 4:  Cost: 0.088691 Accuracy: 0.755800\n",
      "Epoch 40, CIFAR-10 Batch 5:  Cost: 0.165543 Accuracy: 0.734800\n",
      "Epoch 41, CIFAR-10 Batch 1:  Cost: 0.067778 Accuracy: 0.751600\n",
      "Epoch 41, CIFAR-10 Batch 2:  Cost: 0.140817 Accuracy: 0.728600\n",
      "Epoch 41, CIFAR-10 Batch 3:  Cost: 0.098274 Accuracy: 0.746400\n",
      "Epoch 41, CIFAR-10 Batch 4:  Cost: 0.069363 Accuracy: 0.748000\n",
      "Epoch 41, CIFAR-10 Batch 5:  Cost: 0.138347 Accuracy: 0.750800\n",
      "Epoch 42, CIFAR-10 Batch 1:  Cost: 0.139162 Accuracy: 0.744600\n",
      "Epoch 42, CIFAR-10 Batch 2:  Cost: 0.065485 Accuracy: 0.759400\n",
      "Epoch 42, CIFAR-10 Batch 3:  Cost: 0.108023 Accuracy: 0.745200\n",
      "Epoch 42, CIFAR-10 Batch 4:  Cost: 0.080100 Accuracy: 0.757400\n",
      "Epoch 42, CIFAR-10 Batch 5:  Cost: 0.115535 Accuracy: 0.730600\n",
      "Epoch 43, CIFAR-10 Batch 1:  Cost: 0.148087 Accuracy: 0.727400\n",
      "Epoch 43, CIFAR-10 Batch 2:  Cost: 0.056209 Accuracy: 0.754000\n",
      "Epoch 43, CIFAR-10 Batch 3:  Cost: 0.125041 Accuracy: 0.730200\n",
      "Epoch 43, CIFAR-10 Batch 4:  Cost: 0.076867 Accuracy: 0.753800\n",
      "Epoch 43, CIFAR-10 Batch 5:  Cost: 0.089110 Accuracy: 0.742400\n",
      "Epoch 44, CIFAR-10 Batch 1:  Cost: 0.114080 Accuracy: 0.750800\n",
      "Epoch 44, CIFAR-10 Batch 2:  Cost: 0.065932 Accuracy: 0.740400\n",
      "Epoch 44, CIFAR-10 Batch 3:  Cost: 0.079179 Accuracy: 0.765200\n",
      "Epoch 44, CIFAR-10 Batch 4:  Cost: 0.075287 Accuracy: 0.767200\n",
      "Epoch 44, CIFAR-10 Batch 5:  Cost: 0.156908 Accuracy: 0.744600\n",
      "Epoch 45, CIFAR-10 Batch 1:  Cost: 0.064007 Accuracy: 0.742000\n",
      "Epoch 45, CIFAR-10 Batch 2:  Cost: 0.108699 Accuracy: 0.749800\n",
      "Epoch 45, CIFAR-10 Batch 3:  Cost: 0.098257 Accuracy: 0.742800\n",
      "Epoch 45, CIFAR-10 Batch 4:  Cost: 0.046162 Accuracy: 0.759200\n",
      "Epoch 45, CIFAR-10 Batch 5:  Cost: 0.118107 Accuracy: 0.746600\n",
      "Epoch 46, CIFAR-10 Batch 1:  Cost: 0.152877 Accuracy: 0.742200\n",
      "Epoch 46, CIFAR-10 Batch 2:  Cost: 0.095046 Accuracy: 0.741600\n",
      "Epoch 46, CIFAR-10 Batch 3:  Cost: 0.065573 Accuracy: 0.745600\n",
      "Epoch 46, CIFAR-10 Batch 4:  Cost: 0.061384 Accuracy: 0.766000\n",
      "Epoch 46, CIFAR-10 Batch 5:  Cost: 0.099077 Accuracy: 0.744200\n",
      "Epoch 47, CIFAR-10 Batch 1:  Cost: 0.142873 Accuracy: 0.752200\n",
      "Epoch 47, CIFAR-10 Batch 2:  Cost: 0.080025 Accuracy: 0.749000\n",
      "Epoch 47, CIFAR-10 Batch 3:  Cost: 0.107489 Accuracy: 0.725200\n",
      "Epoch 47, CIFAR-10 Batch 4:  Cost: 0.077948 Accuracy: 0.765200\n",
      "Epoch 47, CIFAR-10 Batch 5:  Cost: 0.115950 Accuracy: 0.753200\n",
      "Epoch 48, CIFAR-10 Batch 1:  Cost: 0.096133 Accuracy: 0.752800\n",
      "Epoch 48, CIFAR-10 Batch 2:  Cost: 0.074421 Accuracy: 0.756200\n",
      "Epoch 48, CIFAR-10 Batch 3:  Cost: 0.071453 Accuracy: 0.734600\n",
      "Epoch 48, CIFAR-10 Batch 4:  Cost: 0.048387 Accuracy: 0.763400\n",
      "Epoch 48, CIFAR-10 Batch 5:  Cost: 0.125504 Accuracy: 0.741400\n",
      "Epoch 49, CIFAR-10 Batch 1:  Cost: 0.104769 Accuracy: 0.761600\n",
      "Epoch 49, CIFAR-10 Batch 2:  Cost: 0.122167 Accuracy: 0.743200\n",
      "Epoch 49, CIFAR-10 Batch 3:  Cost: 0.077419 Accuracy: 0.745400\n",
      "Epoch 49, CIFAR-10 Batch 4:  Cost: 0.036862 Accuracy: 0.763000\n",
      "Epoch 49, CIFAR-10 Batch 5:  Cost: 0.126628 Accuracy: 0.739200\n",
      "Epoch 50, CIFAR-10 Batch 1:  Cost: 0.101819 Accuracy: 0.751000\n",
      "Epoch 50, CIFAR-10 Batch 2:  Cost: 0.082230 Accuracy: 0.713800\n",
      "Epoch 50, CIFAR-10 Batch 3:  Cost: 0.097904 Accuracy: 0.718000\n",
      "Epoch 50, CIFAR-10 Batch 4:  Cost: 0.035373 Accuracy: 0.762600\n",
      "Epoch 50, CIFAR-10 Batch 5:  Cost: 0.099701 Accuracy: 0.751000\n"
     ]
    }
   ],
   "source": [
    "\"\"\"\n",
    "DON'T MODIFY ANYTHING IN THIS CELL\n",
    "\"\"\"\n",
    "save_model_path = './image_classification'\n",
    "\n",
    "print('Training...')\n",
    "with tf.Session() as sess:\n",
    "    # Initializing the variables\n",
    "    sess.run(tf.global_variables_initializer())\n",
    "    \n",
    "    # Training cycle\n",
    "    for epoch in range(epochs):\n",
    "        # Loop over all batches\n",
    "        n_batches = 5\n",
    "        for batch_i in range(1, n_batches + 1):\n",
    "            for batch_features, batch_labels in helper.load_preprocess_training_batch(batch_i, batch_size):\n",
    "                train_neural_network(sess, optimizer, keep_probability, batch_features, batch_labels)\n",
    "            print('Epoch {:>2}, CIFAR-10 Batch {}:  '.format(epoch + 1, batch_i), end='')\n",
    "            print_stats(sess, batch_features, batch_labels, cost, accuracy)\n",
    "            \n",
    "    # Save Model\n",
    "    saver = tf.train.Saver()\n",
    "    save_path = saver.save(sess, save_model_path)"
   ]
  },
  {
   "cell_type": "markdown",
   "metadata": {
    "deletable": true,
    "editable": true
   },
   "source": [
    "# Checkpoint\n",
    "The model has been saved to disk.\n",
    "## Test Model\n",
    "Test your model against the test dataset.  This will be your final accuracy. You should have an accuracy greater than 50%. If you don't, keep tweaking the model architecture and parameters."
   ]
  },
  {
   "cell_type": "code",
   "execution_count": 52,
   "metadata": {
    "collapsed": false,
    "deletable": true,
    "editable": true,
    "scrolled": true
   },
   "outputs": [
    {
     "name": "stdout",
     "output_type": "stream",
     "text": [
      "Testing Accuracy: 0.7467365506329114\n",
      "\n"
     ]
    },
    {
     "data": {
      "image/png": "[encoded data removed]",
      "text/plain": [
       "<matplotlib.figure.Figure at 0x1b2f7f42048>"
      ]
     },
     "metadata": {
      "image/png": {
       "height": 319,
       "width": 355
      }
     },
     "output_type": "display_data"
    }
   ],
   "source": [
    "\"\"\"\n",
    "DON'T MODIFY ANYTHING IN THIS CELL\n",
    "\"\"\"\n",
    "%matplotlib inline\n",
    "%config InlineBackend.figure_format = 'retina'\n",
    "\n",
    "import tensorflow as tf\n",
    "import pickle\n",
    "import helper\n",
    "import random\n",
    "\n",
    "# Set batch size if not already set\n",
    "try:\n",
    "    if batch_size:\n",
    "        pass\n",
    "except NameError:\n",
    "    batch_size = 64\n",
    "\n",
    "save_model_path = './image_classification'\n",
    "n_samples = 4\n",
    "top_n_predictions = 3\n",
    "\n",
    "def test_model():\n",
    "    \"\"\"\n",
    "    Test the saved model against the test dataset\n",
    "    \"\"\"\n",
    "\n",
    "    test_features, test_labels = pickle.load(open('preprocess_training.p', mode='rb'))\n",
    "    loaded_graph = tf.Graph()\n",
    "\n",
    "    with tf.Session(graph=loaded_graph) as sess:\n",
    "        # Load model\n",
    "        loader = tf.train.import_meta_graph(save_model_path + '.meta')\n",
    "        loader.restore(sess, save_model_path)\n",
    "\n",
    "        # Get Tensors from loaded model\n",
    "        loaded_x = loaded_graph.get_tensor_by_name('x:0')\n",
    "        loaded_y = loaded_graph.get_tensor_by_name('y:0')\n",
    "        loaded_keep_prob = loaded_graph.get_tensor_by_name('keep_prob:0')\n",
    "        loaded_logits = loaded_graph.get_tensor_by_name('logits:0')\n",
    "        loaded_acc = loaded_graph.get_tensor_by_name('accuracy:0')\n",
    "        \n",
    "        # Get accuracy in batches for memory limitations\n",
    "        test_batch_acc_total = 0\n",
    "        test_batch_count = 0\n",
    "        \n",
    "        for train_feature_batch, train_label_batch in helper.batch_features_labels(test_features, test_labels, batch_size):\n",
    "            test_batch_acc_total += sess.run(\n",
    "                loaded_acc,\n",
    "                feed_dict={loaded_x: train_feature_batch, loaded_y: train_label_batch, loaded_keep_prob: 1.0})\n",
    "            test_batch_count += 1\n",
    "\n",
    "        print('Testing Accuracy: {}\\n'.format(test_batch_acc_total/test_batch_count))\n",
    "\n",
    "        # Print Random Samples\n",
    "        random_test_features, random_test_labels = tuple(zip(*random.sample(list(zip(test_features, test_labels)), n_samples)))\n",
    "        random_test_predictions = sess.run(\n",
    "            tf.nn.top_k(tf.nn.softmax(loaded_logits), top_n_predictions),\n",
    "            feed_dict={loaded_x: random_test_features, loaded_y: random_test_labels, loaded_keep_prob: 1.0})\n",
    "        helper.display_image_predictions(random_test_features, random_test_labels, random_test_predictions)\n",
    "\n",
    "\n",
    "test_model()"
   ]
  },
  {
   "cell_type": "markdown",
   "metadata": {
    "deletable": true,
    "editable": true
   },
   "source": [
    "## Why 50-70% Accuracy?\n",
    "You might be wondering why you can't get an accuracy any higher. First things first, 50% isn't bad for a simple CNN.  Pure guessing would get you 10% accuracy. However, you might notice people are getting scores [well above 70%](http://rodrigob.github.io/are_we_there_yet/build/classification_datasets_results.html#43494641522d3130).  That's because we haven't taught you all there is to know about neural networks. We still need to cover a few more techniques.\n",
    "## Submitting This Project\n",
    "When submitting this project, make sure to run all the cells before saving the notebook.  Save the notebook file as \"dlnd_image_classification.ipynb\" and save it as a HTML file under \"File\" -> \"Download as\".  Include the \"helper.py\" and \"problem_unittests.py\" files in your submission."
   ]
  },
  {
   "cell_type": "code",
   "execution_count": null,
   "metadata": {
    "collapsed": true,
    "deletable": true,
    "editable": true
   },
   "outputs": [],
   "source": []
  }
 ],
 "metadata": {
  "kernelspec": {
   "display_name": "Python 3",
   "language": "python",
   "name": "python3"
  },
  "language_info": {
   "codemirror_mode": {
    "name": "ipython",
    "version": 3
   },
   "file_extension": ".py",
   "mimetype": "text/x-python",
   "name": "python",
   "nbconvert_exporter": "python",
   "pygments_lexer": "ipython3",
   "version": "3.5.3"
  }
 },
 "nbformat": 4,
 "nbformat_minor": 0
}
